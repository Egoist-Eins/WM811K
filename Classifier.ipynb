{
 "cells": [
  {
   "cell_type": "code",
   "execution_count": 1,
   "metadata": {},
   "outputs": [],
   "source": [
    "import os, time\n",
    "import matplotlib.pyplot as plt\n",
    "import pandas as pd\n",
    "import itertools\n",
    "import pickle\n",
    "import imageio\n",
    "import torch\n",
    "import torch.nn as nn\n",
    "import torch.nn.functional as F\n",
    "import torch.optim as optim\n",
    "from torchvision import datasets, transforms, models\n",
    "from torch.autograd import Variable\n",
    "from PIL import Image\n",
    "from numpy import array\n",
    "import numpy as np\n",
    "import copy\n",
    "%matplotlib inline"
   ]
  },
  {
   "cell_type": "code",
   "execution_count": 2,
   "metadata": {},
   "outputs": [],
   "source": [
    "import os\n",
    "os.environ[\"KMP_DUPLICATE_LIB_OK\"]=\"TRUE\"\n",
    "\n",
    "# 读取数据\n",
    "wafer_data = pd.read_pickle(\"LSWMD.pkl\")"
   ]
  },
  {
   "cell_type": "code",
   "execution_count": 3,
   "metadata": {},
   "outputs": [
    {
     "name": "stderr",
     "output_type": "stream",
     "text": [
      "C:\\Users\\HP\\anaconda3\\lib\\site-packages\\pandas\\core\\ops\\array_ops.py:56: FutureWarning: elementwise comparison failed; returning scalar instead, but in the future will perform elementwise comparison\n",
      "  result = libops.scalar_compare(x.ravel(), y, op)\n"
     ]
    }
   ],
   "source": [
    "# 提取不同类型数据\n",
    "wafer_data = wafer_data.drop(['waferIndex'], axis = 1)\n",
    "noType = wafer_data[wafer_data.failureType.str.len() == 0]\n",
    "noneType = wafer_data[wafer_data.failureType == 'none']\n",
    "wafer_data = wafer_data[wafer_data.failureType.str.len() > 0]\n",
    "hasType = wafer_data[wafer_data.failureType != 'none']\n",
    "hasType = hasType.reset_index(drop = True)\n"
   ]
  },
  {
   "cell_type": "code",
   "execution_count": 4,
   "metadata": {},
   "outputs": [],
   "source": [
    "# 重新调整图片大小\n",
    "scaledimgs = []\n",
    "\n",
    "for y in range(len(hasType)):\n",
    "    img = Image.fromarray(hasType.waferMap[y])\n",
    "    scimg = img.resize((32, 32), Image.ANTIALIAS)\n",
    "    npscimg = np.array(scimg)\n",
    "    scaledimgs.append(npscimg)\n",
    "\n",
    "scaledimgs = np.array(scaledimgs)"
   ]
  },
  {
   "cell_type": "code",
   "execution_count": 5,
   "metadata": {},
   "outputs": [
    {
     "data": {
      "text/plain": [
       "(25519, 32, 32)"
      ]
     },
     "execution_count": 5,
     "metadata": {},
     "output_type": "execute_result"
    }
   ],
   "source": [
    "scaledimgs.shape"
   ]
  },
  {
   "cell_type": "code",
   "execution_count": 6,
   "metadata": {},
   "outputs": [
    {
     "name": "stdout",
     "output_type": "stream",
     "text": [
      "allcount:  25519\n"
     ]
    }
   ],
   "source": [
    "# 混合训练集和测试集的标签\n",
    "\n",
    "scall = []\n",
    "y_all = []\n",
    "allcount = 0\n",
    "\n",
    "for y in range(len(hasType)):\n",
    "    scall.append(scaledimgs[y])\n",
    "    allcount += 1\n",
    "    y_all.append(hasType.failureType[y][:])\n",
    "\n",
    "npall = np.array(scall)\n",
    "# npy = np.array(y_all)\n",
    "\n",
    "print(\"allcount: \", allcount)\n"
   ]
  },
  {
   "cell_type": "code",
   "execution_count": 7,
   "metadata": {},
   "outputs": [],
   "source": [
    "# 标签one hot编码\n",
    "from sklearn import preprocessing\n",
    "\n",
    "fy_all = np.vstack(y_all)\n",
    "\n",
    "one_hot = preprocessing.OneHotEncoder(sparse = False)\n",
    "\n",
    "all_onehot = one_hot.fit_transform(fy_all)\n",
    "\n",
    "all_onehot = np.array(all_onehot)"
   ]
  },
  {
   "cell_type": "code",
   "execution_count": 9,
   "metadata": {},
   "outputs": [
    {
     "name": "stdout",
     "output_type": "stream",
     "text": [
      "{'Loc': 4, 'Edge-Loc': 2, 'Center': 0, 'Edge-Ring': 3, 'Scratch': 7, 'Random': 6, 'Near-full': 5, 'Donut': 1}\n"
     ]
    }
   ],
   "source": [
    "# 数字对应标签\n",
    "dict_train = {}\n",
    "for i in range(len(y_all[:1000])):\n",
    "    dict_train[y_all[i][0][0]] =  np.argmax(all_onehot[i])\n",
    "\n",
    "print(dict_train)"
   ]
  },
  {
   "cell_type": "code",
   "execution_count": 10,
   "metadata": {},
   "outputs": [],
   "source": [
    "# 简化图片结构：0,1 -> 1; 2 -> 1\n",
    "for x in npall:\n",
    "    for i in range(32):\n",
    "        for j in range(32):\n",
    "            if x[i][j] < 1.5:\n",
    "                x[i][j] = 0\n",
    "            else:\n",
    "                x[i][j] = 1"
   ]
  },
  {
   "cell_type": "code",
   "execution_count": 11,
   "metadata": {},
   "outputs": [
    {
     "data": {
      "text/plain": [
       "array([0, 0, 0, 0, 0, 0, 0, 0, 0, 0, 0, 0, 0, 0, 1, 0, 1, 0, 0, 0, 0, 0,\n",
       "       0, 1, 1, 1, 1, 1, 0, 0, 0, 0], dtype=uint8)"
      ]
     },
     "execution_count": 11,
     "metadata": {},
     "output_type": "execute_result"
    }
   ],
   "source": [
    "# Test\n",
    "npall[0][10]"
   ]
  },
  {
   "cell_type": "code",
   "execution_count": 12,
   "metadata": {},
   "outputs": [],
   "source": [
    "# 打乱混合标签\n",
    "np.random.seed(200)\n",
    "np.random.shuffle(npall)\n",
    "np.random.seed(200)\n",
    "np.random.shuffle(all_onehot)"
   ]
  },
  {
   "cell_type": "code",
   "execution_count": 13,
   "metadata": {},
   "outputs": [],
   "source": [
    "# 整理训练数据，前20000为训练数据，其余为测试数据\n",
    "x_train_tensor = torch.from_numpy(npall[:20000])\n",
    "y_train_tensor = torch.from_numpy(all_onehot[:20000])\n",
    "x_train_tensor = x_train_tensor.reshape([20000,1,32,32])\n",
    "\n",
    "\n",
    "x_test_tensor = torch.from_numpy(npall[20000:])\n",
    "y_test_tensor = torch.from_numpy(all_onehot[20000:])\n",
    "x_test_tensor = x_test_tensor.reshape([-1,1,32,32])"
   ]
  },
  {
   "cell_type": "code",
   "execution_count": 14,
   "metadata": {},
   "outputs": [
    {
     "name": "stdout",
     "output_type": "stream",
     "text": [
      "训练集：\n",
      "{0: 3357, 1: 441, 2: 4059, 3: 7608, 4: 2781, 5: 108, 6: 712, 7: 934}\n",
      "测试集：\n",
      "{0: 937, 1: 114, 2: 1130, 3: 2072, 4: 812, 5: 41, 6: 154, 7: 259}\n"
     ]
    }
   ],
   "source": [
    "# 观察训练数据，测试数据中样本分布\n",
    "y_train = np.array(np.argmax(y_train_tensor,axis = 1))\n",
    "y_test = np.array(np.argmax(y_test_tensor,axis = 1))\n",
    "\n",
    "mask = np.unique(y_train)\n",
    "tmp = {}\n",
    "for v in mask:\n",
    "    tmp[v] = np.sum(y_train == v)\n",
    "print(\"训练集：\")\n",
    "print(tmp)\n",
    "\n",
    "mask = np.unique(y_test)\n",
    "tmp = {}\n",
    "for v in mask:\n",
    "    tmp[v] = np.sum(y_test == v)\n",
    "print(\"测试集：\")\n",
    "print(tmp)"
   ]
  },
  {
   "cell_type": "code",
   "execution_count": 15,
   "metadata": {},
   "outputs": [],
   "source": [
    "torch_dataset_train = torch.utils.data.TensorDataset(x_train_tensor, y_train_tensor)\n",
    "torch_dataset_test = torch.utils.data.TensorDataset(x_test_tensor, y_test_tensor)"
   ]
  },
  {
   "cell_type": "code",
   "execution_count": 16,
   "metadata": {},
   "outputs": [],
   "source": [
    "# 分类器\n",
    "class classifier(nn.Module):\n",
    "    # initializers\n",
    "    def __init__(self, d=128):\n",
    "        super(classifier, self).__init__()\n",
    "        self.conv1 = nn.Conv2d(1, d*2, 4, 2, 1)\n",
    "        self.conv2 = nn.Conv2d(d*2, d*4, 4, 2, 1)\n",
    "        self.conv2_bn = nn.BatchNorm2d(d*4)\n",
    "        self.Linear1 = nn.Linear(d*256, 1024)\n",
    "        self.Linear2 = nn.Linear(1024, 8)\n",
    "\n",
    "    # weight_init\n",
    "    def weight_init(self, mean, std):\n",
    "        for m in self._modules:\n",
    "            normal_init(self._modules[m], mean, std)\n",
    "\n",
    "    # forward method\n",
    "    def forward(self, input):\n",
    "#         x = F.leaky_relu(self.conv1(input), 0.2)\n",
    "#         x = F.leaky_relu(self.conv2_bn(self.conv2(x)), 0.2)\n",
    "#         x = x.view(-1,64*256)\n",
    "#         x = F.leaky_relu(self.Linear1(x), 0.2)\n",
    "#         x = F.softmax(self.Linear2(x), dim=1)\n",
    "        x = F.relu(self.conv1(input))\n",
    "        x = F.relu(self.conv2_bn(self.conv2(x)))\n",
    "        x = x.view(-1,32*256)\n",
    "        x = F.relu(self.Linear1(x))\n",
    "        # x = F.softmax(self.Linear2(x), dim=1)\n",
    "        x = self.Linear2(x)\n",
    "  \n",
    "        return x"
   ]
  },
  {
   "cell_type": "code",
   "execution_count": 17,
   "metadata": {},
   "outputs": [],
   "source": [
    "# 分类器网络参数初始化\n",
    "def normal_init(m, mean, std):\n",
    "    if isinstance(m, nn.ConvTranspose2d) or isinstance(m, nn.Conv2d) or isinstance(m, nn.Linear):\n",
    "        m.weight.data.normal_(mean, std)\n",
    "        m.bias.data.zero_()\n"
   ]
  },
  {
   "cell_type": "code",
   "execution_count": 18,
   "metadata": {},
   "outputs": [],
   "source": [
    "# 训练参数\n",
    "batch_size = 32\n",
    "lr = 0.0002\n",
    "train_epoch = 5\n",
    "\n",
    "train_loader = torch.utils.data.DataLoader(\n",
    "    torch_dataset_train,\n",
    "    batch_size=batch_size, shuffle=True)\n",
    "\n",
    "C = classifier(32)\n",
    "C.weight_init(mean=0.0, std=0.02)\n",
    "\n",
    "# Binary Cross Entropy loss\n",
    "BCE_loss = nn.BCELoss()\n",
    "CE_loss = nn.CrossEntropyLoss()\n",
    "\n",
    "# Adam optimizer\n",
    "C_optimizer = optim.Adam(C.parameters(), lr=lr, betas=(0.5, 0.999))"
   ]
  },
  {
   "cell_type": "code",
   "execution_count": 19,
   "metadata": {},
   "outputs": [],
   "source": [
    "# 从测试集中抽验证集（应该从训练集中抽取）\n",
    "test_x = x_test_tensor[:1000]\n",
    "test_y = y_test_tensor[:1000]"
   ]
  },
  {
   "cell_type": "code",
   "execution_count": 20,
   "metadata": {},
   "outputs": [],
   "source": [
    "# sortmax 结果转 onehot\n",
    "def props_to_onehot(props):\n",
    "    if isinstance(props, list):\n",
    "        props = np.array(props)\n",
    "    a = np.argmax(props, axis=1)\n",
    "    b = np.zeros((len(a), props.shape[1]))\n",
    "    b[np.arange(len(a)), a] = 1\n",
    "    return b"
   ]
  },
  {
   "cell_type": "code",
   "execution_count": 21,
   "metadata": {},
   "outputs": [
    {
     "name": "stdout",
     "output_type": "stream",
     "text": [
      "50\n",
      "Epoch:  0\n",
      "100\n",
      "Epoch:  0\n",
      "150\n",
      "Epoch:  0\n",
      "200\n",
      "Epoch:  0\n",
      "250\n",
      "Epoch:  0\n",
      "300\n",
      "Epoch:  0\n",
      "350\n",
      "Epoch:  0\n",
      "400\n",
      "Epoch:  0\n",
      "450\n",
      "Epoch:  0\n",
      "500\n",
      "Epoch:  0\n",
      "550\n",
      "Epoch:  0\n",
      "600\n",
      "Epoch:  0\n",
      "Epoch:  0 | train loss: 0.3041 | test accuracy: 0.84\n",
      "650\n",
      "Epoch:  1\n",
      "700\n",
      "Epoch:  1\n",
      "750\n",
      "Epoch:  1\n",
      "800\n",
      "Epoch:  1\n",
      "850\n",
      "Epoch:  1\n",
      "900\n",
      "Epoch:  1\n",
      "950\n",
      "Epoch:  1\n",
      "1000\n",
      "Epoch:  1\n",
      "1050\n",
      "Epoch:  1\n",
      "1100\n",
      "Epoch:  1\n",
      "1150\n",
      "Epoch:  1\n",
      "1200\n",
      "Epoch:  1\n",
      "1250\n",
      "Epoch:  1\n",
      "Epoch:  1 | train loss: 0.2007 | test accuracy: 0.84\n",
      "1300\n",
      "Epoch:  2\n",
      "1350\n",
      "Epoch:  2\n",
      "1400\n",
      "Epoch:  2\n",
      "1450\n",
      "Epoch:  2\n",
      "1500\n",
      "Epoch:  2\n",
      "1550\n",
      "Epoch:  2\n",
      "1600\n",
      "Epoch:  2\n",
      "1650\n",
      "Epoch:  2\n",
      "1700\n",
      "Epoch:  2\n",
      "1750\n",
      "Epoch:  2\n",
      "1800\n",
      "Epoch:  2\n",
      "1850\n",
      "Epoch:  2\n",
      "Epoch:  2 | train loss: 0.1181 | test accuracy: 0.85\n",
      "1900\n",
      "Epoch:  3\n",
      "1950\n",
      "Epoch:  3\n",
      "2000\n",
      "Epoch:  3\n",
      "2050\n",
      "Epoch:  3\n",
      "2100\n",
      "Epoch:  3\n",
      "2150\n",
      "Epoch:  3\n",
      "2200\n",
      "Epoch:  3\n",
      "2250\n",
      "Epoch:  3\n",
      "2300\n",
      "Epoch:  3\n",
      "2350\n",
      "Epoch:  3\n",
      "2400\n",
      "Epoch:  3\n",
      "2450\n",
      "Epoch:  3\n",
      "2500\n",
      "Epoch:  3\n",
      "Epoch:  3 | train loss: 0.1126 | test accuracy: 0.86\n",
      "2550\n",
      "Epoch:  4\n",
      "2600\n",
      "Epoch:  4\n",
      "2650\n",
      "Epoch:  4\n",
      "2700\n",
      "Epoch:  4\n",
      "2750\n",
      "Epoch:  4\n",
      "2800\n",
      "Epoch:  4\n",
      "2850\n",
      "Epoch:  4\n",
      "2900\n",
      "Epoch:  4\n",
      "2950\n",
      "Epoch:  4\n",
      "3000\n",
      "Epoch:  4\n",
      "3050\n",
      "Epoch:  4\n",
      "3100\n",
      "Epoch:  4\n",
      "Epoch:  4 | train loss: 0.0092 | test accuracy: 0.86\n"
     ]
    }
   ],
   "source": [
    "num_iter = 0\n",
    "\n",
    "for epoch in range(train_epoch):\n",
    "    for b_x, b_y in train_loader:   # gives batch data, normalize x when iterate train_loader\n",
    "        C.train()\n",
    "        fb_x = b_x.float()\n",
    "        output = C(fb_x)       # cnn output\n",
    "        output = output.to(torch.float64)\n",
    "#         print(\"output: \")\n",
    "#         print(output)\n",
    "#         print(b_y)\n",
    "       # loss = BCE_loss(output, b_y)\n",
    "        b_y = torch.topk(b_y, 1)[1].squeeze(1)\n",
    "        loss = CE_loss(output, b_y)\n",
    "#         print(\"loss: \")\n",
    "#         print(loss)\n",
    "#         break\n",
    "        C_optimizer.zero_grad()           # clear gradients for this training step\n",
    "        loss.backward()                 # backpropagation, compute gradients\n",
    "        C_optimizer.step()                # apply gradients\n",
    "        \n",
    "        num_iter += 1\n",
    "        if num_iter%50 == 0:\n",
    "            print(num_iter)\n",
    "            print('Epoch: ', epoch)\n",
    "\n",
    "    with torch.no_grad():\n",
    "        C.eval()\n",
    "#             npout = props_to_onehot(output.detach().numpy())\n",
    "#             accuracy = float(np.sum((npout == b_y.data.numpy()).sum(axis=1) == 8))/ float(b_y.size(0))\n",
    "#             print('Epoch: ', epoch, '| train loss: %.4f' % loss.data.numpy(), '| test accuracy: %.2f' % accuracy)\n",
    "        ftest_x = test_x.float()\n",
    "        test_output = C(ftest_x)\n",
    "        npout = props_to_onehot(test_output.detach().numpy())\n",
    "        accuracy = float(np.sum((npout == test_y.data.numpy()).sum(axis=1) == 8))/ float(test_y.size(0))\n",
    "        print('Epoch: ', epoch, '| train loss: %.4f' % loss.data.numpy(), '| test accuracy: %.2f' % accuracy)\n",
    "            \n",
    "#             break"
   ]
  },
  {
   "cell_type": "code",
   "execution_count": 22,
   "metadata": {},
   "outputs": [
    {
     "name": "stdout",
     "output_type": "stream",
     "text": [
      "test accuracy: 0.88\n"
     ]
    }
   ],
   "source": [
    "# 在整个测试集上测试准确率 \n",
    "with torch.no_grad():\n",
    "    C.eval()\n",
    "    ftest_x = x_test_tensor.float()\n",
    "    test_output = C(ftest_x)\n",
    "    npout = props_to_onehot(test_output.detach().numpy())\n",
    "    accuracy = float(np.sum((npout == y_test_tensor.data.numpy()).sum(axis=1) == 8))/ float(x_test_tensor.size(0))\n",
    "    print('test accuracy: %.2f' % accuracy)"
   ]
  },
  {
   "cell_type": "code",
   "execution_count": 23,
   "metadata": {},
   "outputs": [],
   "source": [
    "import seaborn as sns\n",
    "from sklearn.metrics import confusion_matrix"
   ]
  },
  {
   "cell_type": "code",
   "execution_count": 24,
   "metadata": {},
   "outputs": [],
   "source": [
    "cm = confusion_matrix(np.argmax(npout, axis=1), np.argmax(y_test_tensor.data.numpy(), axis=1))"
   ]
  },
  {
   "cell_type": "code",
   "execution_count": 26,
   "metadata": {},
   "outputs": [
    {
     "data": {
      "text/plain": [
       "<AxesSubplot:>"
      ]
     },
     "execution_count": 26,
     "metadata": {},
     "output_type": "execute_result"
    },
    {
     "data": {
      "image/png": "[encoded data removed]",
      "text/plain": [
       "<Figure size 432x288 with 2 Axes>"
      ]
     },
     "metadata": {
      "needs_background": "light"
     },
     "output_type": "display_data"
    }
   ],
   "source": [
    "sns.heatmap(cm, annot=cm, fmt = '.1f',annot_kws={\"size\": 10})"
   ]
  },
  {
   "cell_type": "code",
   "execution_count": null,
   "metadata": {},
   "outputs": [],
   "source": []
  }
 ],
 "metadata": {
  "kernelspec": {
   "display_name": "Python 3",
   "language": "python",
   "name": "python3"
  },
  "language_info": {
   "codemirror_mode": {
    "name": "ipython",
    "version": 3
   },
   "file_extension": ".py",
   "mimetype": "text/x-python",
   "name": "python",
   "nbconvert_exporter": "python",
   "pygments_lexer": "ipython3",
   "version": "3.8.5"
  }
 },
 "nbformat": 4,
 "nbformat_minor": 4
}
